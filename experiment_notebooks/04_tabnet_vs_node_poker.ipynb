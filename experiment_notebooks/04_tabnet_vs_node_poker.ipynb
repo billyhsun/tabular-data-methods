{
 "cells": [
  {
   "cell_type": "markdown",
   "metadata": {},
   "source": [
    "# Description\n",
    "\n",
    "We will use the preprocessed poker data and compare regression accuracies/errors for Tabnet and Node vs XGBoost"
   ]
  },
  {
   "cell_type": "code",
   "execution_count": 10,
   "metadata": {},
   "outputs": [],
   "source": [
    "import numpy as np\n",
    "import pandas as pd\n",
    "import scipy as scp\n",
    "from xgboost import XGBClassifier\n",
    "import os\n",
    "from sklearn.model_selection import train_test_split\n",
    "from sklearn.metrics import mean_squared_error as MSE\n",
    "\n",
    "ROOT = os.path.dirname(os.getcwd())\n",
    "train_data = pd.read_csv(os.path.join(ROOT, 'data', 'pokerhands', 'train.csv'))\n",
    "test_data = pd.read_csv(os.path.join(ROOT, 'data', 'pokerhands', 'test.csv'))\n",
    "test_data_correct = pd.read_csv(os.path.join(ROOT, 'data', 'pokerhands', 'test_correct.csv'))\n",
    "\n",
    "test_data = test_data.head(10000)\n",
    "test_data_correct = test_data_correct.head(10000)"
   ]
  },
  {
   "cell_type": "markdown",
   "metadata": {},
   "source": [
    "## XGBoost"
   ]
  },
  {
   "cell_type": "code",
   "execution_count": 7,
   "metadata": {},
   "outputs": [],
   "source": [
    "x = train_data.drop('hand', axis =1)\n",
    "y = train_data['hand']\n",
    "x = np.array(x).astype(int)"
   ]
  },
  {
   "cell_type": "code",
   "execution_count": 8,
   "metadata": {},
   "outputs": [
    {
     "name": "stdout",
     "output_type": "stream",
     "text": [
      "XGBoost: id              0.7298\n",
      "hand_predict    0.7298\n",
      "id              0.7298\n",
      "hand            0.7298\n",
      "dtype: float64\n"
     ]
    }
   ],
   "source": [
    "model = XGBClassifier()\n",
    "model.fit(x, y)\n",
    "x_test = test_data\n",
    "x_test = x_test.drop('id', axis = 1)\n",
    "\n",
    "x_test = np.array(x_test).astype(int)\n",
    "predictions = model.predict(x_test).astype(int)\n",
    "output = pd.DataFrame({'id': test_data.id, 'hand_predict': predictions})\n",
    "\n",
    "output = pd.concat([output, test_data_correct], axis=1)\n",
    "correct = output[(output['hand'] == output['hand_predict'])].count()\n",
    "print(\"XGBoost:\", correct / 10000)"
   ]
  },
  {
   "cell_type": "markdown",
   "metadata": {},
   "source": [
    "## TabNet"
   ]
  },
  {
   "cell_type": "code",
   "execution_count": 32,
   "metadata": {
    "scrolled": true
   },
   "outputs": [
    {
     "name": "stdout",
     "output_type": "stream",
     "text": [
      "Device used : cpu\n",
      "epoch 0  | loss: 0.8835  | val_0_mse: 2.11242 |  0:00:03s\n",
      "epoch 1  | loss: 0.63735 | val_0_mse: 0.69461 |  0:00:07s\n",
      "epoch 2  | loss: 0.61669 | val_0_mse: 0.67415 |  0:00:11s\n",
      "epoch 3  | loss: 0.61495 | val_0_mse: 0.64121 |  0:00:15s\n",
      "epoch 4  | loss: 0.61243 | val_0_mse: 0.63444 |  0:00:18s\n",
      "epoch 5  | loss: 0.60976 | val_0_mse: 0.62683 |  0:00:22s\n",
      "epoch 6  | loss: 0.6073  | val_0_mse: 0.62563 |  0:00:26s\n",
      "epoch 7  | loss: 0.60535 | val_0_mse: 0.61957 |  0:00:29s\n",
      "epoch 8  | loss: 0.60081 | val_0_mse: 0.61905 |  0:00:33s\n",
      "epoch 9  | loss: 0.59961 | val_0_mse: 0.62124 |  0:00:36s\n",
      "epoch 10 | loss: 0.59608 | val_0_mse: 0.61493 |  0:00:40s\n",
      "epoch 11 | loss: 0.59387 | val_0_mse: 0.61418 |  0:00:43s\n",
      "epoch 12 | loss: 0.58869 | val_0_mse: 0.61003 |  0:00:47s\n",
      "epoch 13 | loss: 0.58855 | val_0_mse: 0.60166 |  0:00:51s\n",
      "epoch 14 | loss: 0.58574 | val_0_mse: 0.60383 |  0:00:54s\n",
      "epoch 15 | loss: 0.58344 | val_0_mse: 0.60886 |  0:00:58s\n",
      "epoch 16 | loss: 0.58436 | val_0_mse: 0.6013  |  0:01:01s\n",
      "epoch 17 | loss: 0.58252 | val_0_mse: 0.60405 |  0:01:05s\n",
      "epoch 18 | loss: 0.58395 | val_0_mse: 0.59634 |  0:01:08s\n",
      "epoch 19 | loss: 0.58305 | val_0_mse: 0.60055 |  0:01:12s\n",
      "epoch 20 | loss: 0.58237 | val_0_mse: 0.59839 |  0:01:15s\n",
      "epoch 21 | loss: 0.58204 | val_0_mse: 0.60276 |  0:01:19s\n",
      "epoch 22 | loss: 0.57944 | val_0_mse: 0.60093 |  0:01:23s\n",
      "epoch 23 | loss: 0.58167 | val_0_mse: 0.60061 |  0:01:26s\n",
      "epoch 24 | loss: 0.58172 | val_0_mse: 0.59616 |  0:01:30s\n",
      "epoch 25 | loss: 0.58042 | val_0_mse: 0.59716 |  0:01:33s\n",
      "epoch 26 | loss: 0.5786  | val_0_mse: 0.60045 |  0:01:37s\n",
      "epoch 27 | loss: 0.57541 | val_0_mse: 0.59325 |  0:01:40s\n",
      "epoch 28 | loss: 0.57498 | val_0_mse: 0.59069 |  0:01:44s\n",
      "epoch 29 | loss: 0.57502 | val_0_mse: 0.59265 |  0:01:47s\n",
      "epoch 30 | loss: 0.57534 | val_0_mse: 0.59655 |  0:01:51s\n",
      "epoch 31 | loss: 0.57604 | val_0_mse: 0.59383 |  0:01:54s\n",
      "epoch 32 | loss: 0.57426 | val_0_mse: 0.58975 |  0:01:58s\n",
      "epoch 33 | loss: 0.57481 | val_0_mse: 0.58721 |  0:02:02s\n",
      "epoch 34 | loss: 0.57157 | val_0_mse: 0.58408 |  0:02:05s\n",
      "epoch 35 | loss: 0.57152 | val_0_mse: 0.58293 |  0:02:09s\n",
      "epoch 36 | loss: 0.57058 | val_0_mse: 0.58402 |  0:02:13s\n",
      "epoch 37 | loss: 0.56846 | val_0_mse: 0.59043 |  0:02:16s\n",
      "epoch 38 | loss: 0.56679 | val_0_mse: 0.58597 |  0:02:20s\n",
      "epoch 39 | loss: 0.56895 | val_0_mse: 0.58204 |  0:02:23s\n",
      "epoch 40 | loss: 0.56767 | val_0_mse: 0.58387 |  0:02:28s\n",
      "epoch 41 | loss: 0.5674  | val_0_mse: 0.57941 |  0:02:31s\n",
      "epoch 42 | loss: 0.56253 | val_0_mse: 0.58096 |  0:02:35s\n",
      "epoch 43 | loss: 0.56193 | val_0_mse: 0.57809 |  0:02:39s\n",
      "epoch 44 | loss: 0.56277 | val_0_mse: 0.57615 |  0:02:43s\n",
      "epoch 45 | loss: 0.55883 | val_0_mse: 0.57386 |  0:02:47s\n",
      "epoch 46 | loss: 0.55675 | val_0_mse: 0.56985 |  0:02:51s\n",
      "epoch 47 | loss: 0.56036 | val_0_mse: 0.5695  |  0:02:54s\n",
      "epoch 48 | loss: 0.55694 | val_0_mse: 0.56963 |  0:02:58s\n",
      "epoch 49 | loss: 0.55277 | val_0_mse: 0.56023 |  0:03:02s\n",
      "Stop training because you reached max_epochs = 50 with best_epoch = 49 and best_val_0_mse = 0.56023\n",
      "Best weights from best epoch are automatically used!\n"
     ]
    }
   ],
   "source": [
    "from pytorch_tabnet.tab_model import TabNetRegressor\n",
    "\n",
    "X_train, X_valid, y_train, y_valid = train_test_split(x, y, test_size=0.2, random_state=123)\n",
    "model = TabNetRegressor()  #TabNetRegressor()\n",
    "\n",
    "model.fit( \n",
    "    X_train, y_train.to_numpy().reshape(-1, 1),\n",
    "    eval_set=[(X_valid, y_valid.to_numpy().reshape(-1, 1))],\n",
    "    eval_metric=['mse'],\n",
    "    max_epochs = 250\n",
    ")"
   ]
  },
  {
   "cell_type": "code",
   "execution_count": 34,
   "metadata": {},
   "outputs": [
    {
     "name": "stdout",
     "output_type": "stream",
     "text": [
      "TabNet: id              0.5342\n",
      "hand_predict    0.5342\n",
      "id              0.5342\n",
      "hand            0.5342\n",
      "dtype: float64\n"
     ]
    }
   ],
   "source": [
    "predictions = model.predict(x_test).astype(int)\n",
    "output = pd.DataFrame({'id': test_data.id, 'hand_predict': predictions.squeeze()})\n",
    "\n",
    "output = pd.concat([output, test_data_correct], axis=1)\n",
    "correct = output[(output['hand'] == output['hand_predict'])].count()\n",
    "print(\"TabNet:\", correct / 10000)"
   ]
  },
  {
   "cell_type": "markdown",
   "metadata": {},
   "source": [
    "## NODE"
   ]
  },
  {
   "cell_type": "code",
   "execution_count": null,
   "metadata": {},
   "outputs": [],
   "source": []
  },
  {
   "cell_type": "code",
   "execution_count": null,
   "metadata": {},
   "outputs": [],
   "source": []
  }
 ],
 "metadata": {
  "kernelspec": {
   "display_name": "DSenv",
   "language": "python",
   "name": "dsenv"
  },
  "language_info": {
   "codemirror_mode": {
    "name": "ipython",
    "version": 3
   },
   "file_extension": ".py",
   "mimetype": "text/x-python",
   "name": "python",
   "nbconvert_exporter": "python",
   "pygments_lexer": "ipython3",
   "version": "3.8.5"
  }
 },
 "nbformat": 4,
 "nbformat_minor": 5
}
