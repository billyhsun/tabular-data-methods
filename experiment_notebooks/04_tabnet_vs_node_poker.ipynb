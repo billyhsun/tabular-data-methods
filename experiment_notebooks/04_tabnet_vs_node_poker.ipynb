{
 "cells": [
  {
   "cell_type": "markdown",
   "id": "controlled-sierra",
   "metadata": {},
   "source": [
    "# Description\n",
    "\n",
    "We will use the preprocessed poker data and compare regression accuracies/errors for Tabnet and Node vs XGBoost"
   ]
  },
  {
   "cell_type": "code",
   "execution_count": null,
   "id": "loved-effort",
   "metadata": {},
   "outputs": [],
   "source": [
    "import numpy as np\n",
    "import pandas as pd\n",
    "import scipy as scp\n",
    "from xgboost import XGBClassifier\n",
    "import os\n",
    "\n",
    "ROOT = os.path.dirname(os.getcwd())\n",
    "train_data = pd.read_csv(os.path.join(ROOT, 'data', 'pokerhands', 'train.csv'))\n",
    "test_data = pd.read_csv(os.path.join(ROOT, 'data', 'pokerhands', 'test.csv'))\n",
    "test_data_correct = pd.read_csv(os.path.join(ROOT, 'data', 'pokerhands', 'test_correct.csv'))\n",
    "\n",
    "test_data = test_data.head(10000)\n",
    "test_data_correct = test_data_correct.head(10000)"
   ]
  },
  {
   "cell_type": "markdown",
   "id": "virtual-pearl",
   "metadata": {},
   "source": [
    "## XGBoost"
   ]
  },
  {
   "cell_type": "code",
   "execution_count": null,
   "id": "cathedral-saying",
   "metadata": {},
   "outputs": [],
   "source": [
    "model = XGBClassifier()\n",
    "model.fit(x, y)\n",
    "x_test = test_data\n",
    "x_test = x_test.drop('id', axis = 1)\n",
    "\n",
    "x_test = np.array(x_test).astype(int)\n",
    "predictions = model.predict(x_test).astype(int)\n",
    "output = pd.DataFrame({'id': test_data.id, 'hand_predict': predictions})\n",
    "\n",
    "output = pd.concat([output, test_data_correct], axis=1)\n",
    "correct = output[(output['hand'] == output['hand_predict'])].count()\n",
    "print(\"XGBoost:\", correct / 10000)"
   ]
  },
  {
   "cell_type": "markdown",
   "id": "according-steering",
   "metadata": {},
   "source": [
    "## TabNet"
   ]
  },
  {
   "cell_type": "code",
   "execution_count": null,
   "id": "artificial-azerbaijan",
   "metadata": {},
   "outputs": [],
   "source": []
  },
  {
   "cell_type": "markdown",
   "id": "great-czech",
   "metadata": {},
   "source": [
    "## NODE"
   ]
  },
  {
   "cell_type": "code",
   "execution_count": null,
   "id": "plastic-greek",
   "metadata": {},
   "outputs": [],
   "source": []
  }
 ],
 "metadata": {
  "kernelspec": {
   "display_name": "Python 3.6.9 64-bit",
   "language": "python",
   "name": "python36964bitc3676774bf6342d5bf528e4e39f56034"
  },
  "language_info": {
   "codemirror_mode": {
    "name": "ipython",
    "version": 3
   },
   "file_extension": ".py",
   "mimetype": "text/x-python",
   "name": "python",
   "nbconvert_exporter": "python",
   "pygments_lexer": "ipython3",
   "version": "3.6.9"
  }
 },
 "nbformat": 4,
 "nbformat_minor": 5
}
