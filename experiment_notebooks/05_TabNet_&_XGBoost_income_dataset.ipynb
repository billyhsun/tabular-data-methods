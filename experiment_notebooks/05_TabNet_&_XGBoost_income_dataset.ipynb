{
  "nbformat": 4,
  "nbformat_minor": 0,
  "metadata": {
    "colab": {
      "name": "TabNet & XGBoost.ipynb",
      "provenance": []
    },
    "kernelspec": {
      "name": "python3",
      "display_name": "Python 3"
    },
    "language_info": {
      "name": "python"
    }
  },
  "cells": [
    {
      "cell_type": "code",
      "metadata": {
        "colab": {
          "base_uri": "https://localhost:8080/"
        },
        "id": "xVlOa585h5hx",
        "outputId": "c623ca7c-fc14-4802-b098-0932f07aac2e"
      },
      "source": [
        "!pip install category_encoders\n",
        "!pip install pytorch_tabnet"
      ],
      "execution_count": 4,
      "outputs": [
        {
          "output_type": "stream",
          "text": [
            "Requirement already satisfied: category_encoders in /usr/local/lib/python3.7/dist-packages (2.2.2)\n",
            "Requirement already satisfied: numpy>=1.14.0 in /usr/local/lib/python3.7/dist-packages (from category_encoders) (1.19.5)\n",
            "Requirement already satisfied: statsmodels>=0.9.0 in /usr/local/lib/python3.7/dist-packages (from category_encoders) (0.10.2)\n",
            "Requirement already satisfied: scipy>=1.0.0 in /usr/local/lib/python3.7/dist-packages (from category_encoders) (1.4.1)\n",
            "Requirement already satisfied: pandas>=0.21.1 in /usr/local/lib/python3.7/dist-packages (from category_encoders) (1.1.5)\n",
            "Requirement already satisfied: patsy>=0.5.1 in /usr/local/lib/python3.7/dist-packages (from category_encoders) (0.5.1)\n",
            "Requirement already satisfied: scikit-learn>=0.20.0 in /usr/local/lib/python3.7/dist-packages (from category_encoders) (0.22.2.post1)\n",
            "Requirement already satisfied: python-dateutil>=2.7.3 in /usr/local/lib/python3.7/dist-packages (from pandas>=0.21.1->category_encoders) (2.8.1)\n",
            "Requirement already satisfied: pytz>=2017.2 in /usr/local/lib/python3.7/dist-packages (from pandas>=0.21.1->category_encoders) (2018.9)\n",
            "Requirement already satisfied: six in /usr/local/lib/python3.7/dist-packages (from patsy>=0.5.1->category_encoders) (1.15.0)\n",
            "Requirement already satisfied: joblib>=0.11 in /usr/local/lib/python3.7/dist-packages (from scikit-learn>=0.20.0->category_encoders) (1.0.1)\n",
            "Collecting pytorch_tabnet\n",
            "  Downloading https://files.pythonhosted.org/packages/94/e5/2a808d611a5d44e3c997c0d07362c04a56c70002208e00aec9eee3d923b5/pytorch_tabnet-3.1.1-py3-none-any.whl\n",
            "Requirement already satisfied: scipy>1.4 in /usr/local/lib/python3.7/dist-packages (from pytorch_tabnet) (1.4.1)\n",
            "Requirement already satisfied: scikit_learn>0.21 in /usr/local/lib/python3.7/dist-packages (from pytorch_tabnet) (0.22.2.post1)\n",
            "Requirement already satisfied: tqdm<5.0,>=4.36 in /usr/local/lib/python3.7/dist-packages (from pytorch_tabnet) (4.41.1)\n",
            "Requirement already satisfied: torch<2.0,>=1.2 in /usr/local/lib/python3.7/dist-packages (from pytorch_tabnet) (1.8.1+cu101)\n",
            "Requirement already satisfied: numpy<2.0,>=1.17 in /usr/local/lib/python3.7/dist-packages (from pytorch_tabnet) (1.19.5)\n",
            "Requirement already satisfied: joblib>=0.11 in /usr/local/lib/python3.7/dist-packages (from scikit_learn>0.21->pytorch_tabnet) (1.0.1)\n",
            "Requirement already satisfied: typing-extensions in /usr/local/lib/python3.7/dist-packages (from torch<2.0,>=1.2->pytorch_tabnet) (3.7.4.3)\n",
            "Installing collected packages: pytorch-tabnet\n",
            "Successfully installed pytorch-tabnet-3.1.1\n"
          ],
          "name": "stdout"
        }
      ]
    },
    {
      "cell_type": "code",
      "metadata": {
        "id": "31xn-6bLiBRU"
      },
      "source": [
        "from category_encoders import LeaveOneOutEncoder\n",
        "import numpy as np\n",
        "import pandas as pd\n",
        "from sklearn.metrics import classification_report\n",
        "from sklearn.model_selection import train_test_split\n",
        "\n",
        "from pytorch_tabnet.tab_model import TabNetRegressor, TabNetClassifier\n",
        "\n",
        "import torch\n",
        "from sklearn.preprocessing import LabelEncoder\n",
        "from sklearn.metrics import mean_squared_error\n",
        "\n",
        "import pandas as pd\n",
        "import numpy as np\n",
        "from sklearn.metrics import roc_auc_score\n",
        "np.random.seed(0)\n"
      ],
      "execution_count": 37,
      "outputs": []
    },
    {
      "cell_type": "code",
      "metadata": {
        "id": "jD6DnZVcmz-T"
      },
      "source": [
        ""
      ],
      "execution_count": null,
      "outputs": []
    },
    {
      "cell_type": "markdown",
      "metadata": {
        "id": "YrIRTSrum1MR"
      },
      "source": [
        "# TabNet"
      ]
    },
    {
      "cell_type": "code",
      "metadata": {
        "colab": {
          "base_uri": "https://localhost:8080/",
          "height": 1000
        },
        "id": "prsXv8cxh6vJ",
        "outputId": "890e7f95-7adb-4a8e-e8eb-0bc009fc429d"
      },
      "source": [
        "\n",
        "df = pd.read_csv('https://docs.google.com/uc?id=10eFO2rVlsQBUffn0b7UCAp28n0mkLCy7&export=download')\n",
        "\n",
        "labels = df.pop('<=50K')\n",
        "class_to_int = {c: i for i, c in enumerate(labels.unique())}   \n",
        "labels = [class_to_int[v] for v in labels]  \n",
        "\n",
        "X_train, X_val, y_train_int, y_val_int = train_test_split(df, labels, test_size=0.2)\n",
        "\n",
        "cat_features = ['workclass', 'education', 'marital-status', 'occupation', 'relationship', 'race', 'sex', 'native-country']\n",
        "#categorical_dims = dict()\n",
        "\n",
        "\n",
        "display(X_train)\n",
        "tmp = X_train.copy()\n",
        "cat_encoder = LeaveOneOutEncoder()\n",
        "cat_encoder.fit(X_train[cat_features], y_train_int)\n",
        "X_train[cat_features] = cat_encoder.transform(X_train[cat_features])\n",
        "X_val[cat_features] = cat_encoder.transform(X_val[cat_features])\n",
        "\n",
        "\n",
        "\n",
        "display(X_train)\n",
        "X_train = X_train.values.astype('float32')\n",
        "X_val = X_val.values.astype('float32')\n",
        "y_train = np.array(y_train_int)\n",
        "y_val = np.array(y_val_int)\n"
      ],
      "execution_count": 6,
      "outputs": [
        {
          "output_type": "display_data",
          "data": {
            "text/html": [
              "<div>\n",
              "<style scoped>\n",
              "    .dataframe tbody tr th:only-of-type {\n",
              "        vertical-align: middle;\n",
              "    }\n",
              "\n",
              "    .dataframe tbody tr th {\n",
              "        vertical-align: top;\n",
              "    }\n",
              "\n",
              "    .dataframe thead th {\n",
              "        text-align: right;\n",
              "    }\n",
              "</style>\n",
              "<table border=\"1\" class=\"dataframe\">\n",
              "  <thead>\n",
              "    <tr style=\"text-align: right;\">\n",
              "      <th></th>\n",
              "      <th>age</th>\n",
              "      <th>workclass</th>\n",
              "      <th>fnlwgt</th>\n",
              "      <th>education</th>\n",
              "      <th>education-num</th>\n",
              "      <th>marital-status</th>\n",
              "      <th>occupation</th>\n",
              "      <th>relationship</th>\n",
              "      <th>race</th>\n",
              "      <th>sex</th>\n",
              "      <th>capital-gain</th>\n",
              "      <th>capital-loss</th>\n",
              "      <th>hours-per-week</th>\n",
              "      <th>native-country</th>\n",
              "    </tr>\n",
              "  </thead>\n",
              "  <tbody>\n",
              "    <tr>\n",
              "      <th>15282</th>\n",
              "      <td>36</td>\n",
              "      <td>Private</td>\n",
              "      <td>174308</td>\n",
              "      <td>11th</td>\n",
              "      <td>7</td>\n",
              "      <td>Divorced</td>\n",
              "      <td>Transport-moving</td>\n",
              "      <td>Not-in-family</td>\n",
              "      <td>White</td>\n",
              "      <td>Male</td>\n",
              "      <td>0</td>\n",
              "      <td>0</td>\n",
              "      <td>40</td>\n",
              "      <td>United-States</td>\n",
              "    </tr>\n",
              "    <tr>\n",
              "      <th>24870</th>\n",
              "      <td>35</td>\n",
              "      <td>Private</td>\n",
              "      <td>198202</td>\n",
              "      <td>HS-grad</td>\n",
              "      <td>9</td>\n",
              "      <td>Never-married</td>\n",
              "      <td>Exec-managerial</td>\n",
              "      <td>Not-in-family</td>\n",
              "      <td>White</td>\n",
              "      <td>Female</td>\n",
              "      <td>0</td>\n",
              "      <td>0</td>\n",
              "      <td>54</td>\n",
              "      <td>United-States</td>\n",
              "    </tr>\n",
              "    <tr>\n",
              "      <th>18822</th>\n",
              "      <td>38</td>\n",
              "      <td>Private</td>\n",
              "      <td>52963</td>\n",
              "      <td>Bachelors</td>\n",
              "      <td>13</td>\n",
              "      <td>Never-married</td>\n",
              "      <td>Adm-clerical</td>\n",
              "      <td>Not-in-family</td>\n",
              "      <td>White</td>\n",
              "      <td>Female</td>\n",
              "      <td>0</td>\n",
              "      <td>0</td>\n",
              "      <td>50</td>\n",
              "      <td>United-States</td>\n",
              "    </tr>\n",
              "    <tr>\n",
              "      <th>26404</th>\n",
              "      <td>50</td>\n",
              "      <td>Private</td>\n",
              "      <td>138270</td>\n",
              "      <td>HS-grad</td>\n",
              "      <td>9</td>\n",
              "      <td>Married-civ-spouse</td>\n",
              "      <td>Sales</td>\n",
              "      <td>Wife</td>\n",
              "      <td>Black</td>\n",
              "      <td>Female</td>\n",
              "      <td>0</td>\n",
              "      <td>0</td>\n",
              "      <td>40</td>\n",
              "      <td>United-States</td>\n",
              "    </tr>\n",
              "    <tr>\n",
              "      <th>7842</th>\n",
              "      <td>68</td>\n",
              "      <td>Self-emp-not-inc</td>\n",
              "      <td>116903</td>\n",
              "      <td>Assoc-voc</td>\n",
              "      <td>11</td>\n",
              "      <td>Married-civ-spouse</td>\n",
              "      <td>Prof-specialty</td>\n",
              "      <td>Husband</td>\n",
              "      <td>White</td>\n",
              "      <td>Male</td>\n",
              "      <td>0</td>\n",
              "      <td>2149</td>\n",
              "      <td>40</td>\n",
              "      <td>United-States</td>\n",
              "    </tr>\n",
              "    <tr>\n",
              "      <th>...</th>\n",
              "      <td>...</td>\n",
              "      <td>...</td>\n",
              "      <td>...</td>\n",
              "      <td>...</td>\n",
              "      <td>...</td>\n",
              "      <td>...</td>\n",
              "      <td>...</td>\n",
              "      <td>...</td>\n",
              "      <td>...</td>\n",
              "      <td>...</td>\n",
              "      <td>...</td>\n",
              "      <td>...</td>\n",
              "      <td>...</td>\n",
              "      <td>...</td>\n",
              "    </tr>\n",
              "    <tr>\n",
              "      <th>13123</th>\n",
              "      <td>43</td>\n",
              "      <td>Local-gov</td>\n",
              "      <td>33331</td>\n",
              "      <td>Masters</td>\n",
              "      <td>14</td>\n",
              "      <td>Married-civ-spouse</td>\n",
              "      <td>Exec-managerial</td>\n",
              "      <td>Husband</td>\n",
              "      <td>White</td>\n",
              "      <td>Male</td>\n",
              "      <td>0</td>\n",
              "      <td>0</td>\n",
              "      <td>40</td>\n",
              "      <td>United-States</td>\n",
              "    </tr>\n",
              "    <tr>\n",
              "      <th>19648</th>\n",
              "      <td>44</td>\n",
              "      <td>Private</td>\n",
              "      <td>98466</td>\n",
              "      <td>10th</td>\n",
              "      <td>6</td>\n",
              "      <td>Never-married</td>\n",
              "      <td>Farming-fishing</td>\n",
              "      <td>Unmarried</td>\n",
              "      <td>White</td>\n",
              "      <td>Male</td>\n",
              "      <td>0</td>\n",
              "      <td>0</td>\n",
              "      <td>35</td>\n",
              "      <td>United-States</td>\n",
              "    </tr>\n",
              "    <tr>\n",
              "      <th>9845</th>\n",
              "      <td>23</td>\n",
              "      <td>Private</td>\n",
              "      <td>45317</td>\n",
              "      <td>Some-college</td>\n",
              "      <td>10</td>\n",
              "      <td>Separated</td>\n",
              "      <td>Sales</td>\n",
              "      <td>Own-child</td>\n",
              "      <td>White</td>\n",
              "      <td>Female</td>\n",
              "      <td>0</td>\n",
              "      <td>0</td>\n",
              "      <td>40</td>\n",
              "      <td>United-States</td>\n",
              "    </tr>\n",
              "    <tr>\n",
              "      <th>10799</th>\n",
              "      <td>45</td>\n",
              "      <td>Local-gov</td>\n",
              "      <td>215862</td>\n",
              "      <td>Doctorate</td>\n",
              "      <td>16</td>\n",
              "      <td>Married-civ-spouse</td>\n",
              "      <td>Exec-managerial</td>\n",
              "      <td>Husband</td>\n",
              "      <td>White</td>\n",
              "      <td>Male</td>\n",
              "      <td>7688</td>\n",
              "      <td>0</td>\n",
              "      <td>45</td>\n",
              "      <td>United-States</td>\n",
              "    </tr>\n",
              "    <tr>\n",
              "      <th>2732</th>\n",
              "      <td>25</td>\n",
              "      <td>Private</td>\n",
              "      <td>186925</td>\n",
              "      <td>Some-college</td>\n",
              "      <td>10</td>\n",
              "      <td>Never-married</td>\n",
              "      <td>Other-service</td>\n",
              "      <td>Not-in-family</td>\n",
              "      <td>White</td>\n",
              "      <td>Male</td>\n",
              "      <td>2597</td>\n",
              "      <td>0</td>\n",
              "      <td>48</td>\n",
              "      <td>United-States</td>\n",
              "    </tr>\n",
              "  </tbody>\n",
              "</table>\n",
              "<p>26048 rows × 14 columns</p>\n",
              "</div>"
            ],
            "text/plain": [
              "       age          workclass  ...  hours-per-week  native-country\n",
              "15282   36            Private  ...              40   United-States\n",
              "24870   35            Private  ...              54   United-States\n",
              "18822   38            Private  ...              50   United-States\n",
              "26404   50            Private  ...              40   United-States\n",
              "7842    68   Self-emp-not-inc  ...              40   United-States\n",
              "...    ...                ...  ...             ...             ...\n",
              "13123   43          Local-gov  ...              40   United-States\n",
              "19648   44            Private  ...              35   United-States\n",
              "9845    23            Private  ...              40   United-States\n",
              "10799   45          Local-gov  ...              45   United-States\n",
              "2732    25            Private  ...              48   United-States\n",
              "\n",
              "[26048 rows x 14 columns]"
            ]
          },
          "metadata": {
            "tags": []
          }
        },
        {
          "output_type": "stream",
          "text": [
            "/usr/local/lib/python3.7/dist-packages/pandas/core/frame.py:3069: SettingWithCopyWarning: \n",
            "A value is trying to be set on a copy of a slice from a DataFrame.\n",
            "Try using .loc[row_indexer,col_indexer] = value instead\n",
            "\n",
            "See the caveats in the documentation: https://pandas.pydata.org/pandas-docs/stable/user_guide/indexing.html#returning-a-view-versus-a-copy\n",
            "  self[k1] = value[k2]\n",
            "/usr/local/lib/python3.7/dist-packages/pandas/core/frame.py:3069: SettingWithCopyWarning: \n",
            "A value is trying to be set on a copy of a slice from a DataFrame.\n",
            "Try using .loc[row_indexer,col_indexer] = value instead\n",
            "\n",
            "See the caveats in the documentation: https://pandas.pydata.org/pandas-docs/stable/user_guide/indexing.html#returning-a-view-versus-a-copy\n",
            "  self[k1] = value[k2]\n"
          ],
          "name": "stderr"
        },
        {
          "output_type": "display_data",
          "data": {
            "text/html": [
              "<div>\n",
              "<style scoped>\n",
              "    .dataframe tbody tr th:only-of-type {\n",
              "        vertical-align: middle;\n",
              "    }\n",
              "\n",
              "    .dataframe tbody tr th {\n",
              "        vertical-align: top;\n",
              "    }\n",
              "\n",
              "    .dataframe thead th {\n",
              "        text-align: right;\n",
              "    }\n",
              "</style>\n",
              "<table border=\"1\" class=\"dataframe\">\n",
              "  <thead>\n",
              "    <tr style=\"text-align: right;\">\n",
              "      <th></th>\n",
              "      <th>age</th>\n",
              "      <th>workclass</th>\n",
              "      <th>fnlwgt</th>\n",
              "      <th>education</th>\n",
              "      <th>education-num</th>\n",
              "      <th>marital-status</th>\n",
              "      <th>occupation</th>\n",
              "      <th>relationship</th>\n",
              "      <th>race</th>\n",
              "      <th>sex</th>\n",
              "      <th>capital-gain</th>\n",
              "      <th>capital-loss</th>\n",
              "      <th>hours-per-week</th>\n",
              "      <th>native-country</th>\n",
              "    </tr>\n",
              "  </thead>\n",
              "  <tbody>\n",
              "    <tr>\n",
              "      <th>15282</th>\n",
              "      <td>36</td>\n",
              "      <td>0.216999</td>\n",
              "      <td>174308</td>\n",
              "      <td>0.046739</td>\n",
              "      <td>7</td>\n",
              "      <td>0.102637</td>\n",
              "      <td>0.203162</td>\n",
              "      <td>0.100709</td>\n",
              "      <td>0.254738</td>\n",
              "      <td>0.305831</td>\n",
              "      <td>0</td>\n",
              "      <td>0</td>\n",
              "      <td>40</td>\n",
              "      <td>0.24511</td>\n",
              "    </tr>\n",
              "    <tr>\n",
              "      <th>24870</th>\n",
              "      <td>35</td>\n",
              "      <td>0.216999</td>\n",
              "      <td>198202</td>\n",
              "      <td>0.159290</td>\n",
              "      <td>9</td>\n",
              "      <td>0.044455</td>\n",
              "      <td>0.484047</td>\n",
              "      <td>0.100709</td>\n",
              "      <td>0.254738</td>\n",
              "      <td>0.105960</td>\n",
              "      <td>0</td>\n",
              "      <td>0</td>\n",
              "      <td>54</td>\n",
              "      <td>0.24511</td>\n",
              "    </tr>\n",
              "    <tr>\n",
              "      <th>18822</th>\n",
              "      <td>38</td>\n",
              "      <td>0.216999</td>\n",
              "      <td>52963</td>\n",
              "      <td>0.418435</td>\n",
              "      <td>13</td>\n",
              "      <td>0.044455</td>\n",
              "      <td>0.132589</td>\n",
              "      <td>0.100709</td>\n",
              "      <td>0.254738</td>\n",
              "      <td>0.105960</td>\n",
              "      <td>0</td>\n",
              "      <td>0</td>\n",
              "      <td>50</td>\n",
              "      <td>0.24511</td>\n",
              "    </tr>\n",
              "    <tr>\n",
              "      <th>26404</th>\n",
              "      <td>50</td>\n",
              "      <td>0.216999</td>\n",
              "      <td>138270</td>\n",
              "      <td>0.159290</td>\n",
              "      <td>9</td>\n",
              "      <td>0.447245</td>\n",
              "      <td>0.269310</td>\n",
              "      <td>0.470973</td>\n",
              "      <td>0.123618</td>\n",
              "      <td>0.105960</td>\n",
              "      <td>0</td>\n",
              "      <td>0</td>\n",
              "      <td>40</td>\n",
              "      <td>0.24511</td>\n",
              "    </tr>\n",
              "    <tr>\n",
              "      <th>7842</th>\n",
              "      <td>68</td>\n",
              "      <td>0.286280</td>\n",
              "      <td>116903</td>\n",
              "      <td>0.251351</td>\n",
              "      <td>11</td>\n",
              "      <td>0.447245</td>\n",
              "      <td>0.447449</td>\n",
              "      <td>0.449796</td>\n",
              "      <td>0.254738</td>\n",
              "      <td>0.305831</td>\n",
              "      <td>0</td>\n",
              "      <td>2149</td>\n",
              "      <td>40</td>\n",
              "      <td>0.24511</td>\n",
              "    </tr>\n",
              "    <tr>\n",
              "      <th>...</th>\n",
              "      <td>...</td>\n",
              "      <td>...</td>\n",
              "      <td>...</td>\n",
              "      <td>...</td>\n",
              "      <td>...</td>\n",
              "      <td>...</td>\n",
              "      <td>...</td>\n",
              "      <td>...</td>\n",
              "      <td>...</td>\n",
              "      <td>...</td>\n",
              "      <td>...</td>\n",
              "      <td>...</td>\n",
              "      <td>...</td>\n",
              "      <td>...</td>\n",
              "    </tr>\n",
              "    <tr>\n",
              "      <th>13123</th>\n",
              "      <td>43</td>\n",
              "      <td>0.305307</td>\n",
              "      <td>33331</td>\n",
              "      <td>0.556577</td>\n",
              "      <td>14</td>\n",
              "      <td>0.447245</td>\n",
              "      <td>0.484047</td>\n",
              "      <td>0.449796</td>\n",
              "      <td>0.254738</td>\n",
              "      <td>0.305831</td>\n",
              "      <td>0</td>\n",
              "      <td>0</td>\n",
              "      <td>40</td>\n",
              "      <td>0.24511</td>\n",
              "    </tr>\n",
              "    <tr>\n",
              "      <th>19648</th>\n",
              "      <td>44</td>\n",
              "      <td>0.216999</td>\n",
              "      <td>98466</td>\n",
              "      <td>0.063830</td>\n",
              "      <td>6</td>\n",
              "      <td>0.044455</td>\n",
              "      <td>0.119647</td>\n",
              "      <td>0.061982</td>\n",
              "      <td>0.254738</td>\n",
              "      <td>0.305831</td>\n",
              "      <td>0</td>\n",
              "      <td>0</td>\n",
              "      <td>35</td>\n",
              "      <td>0.24511</td>\n",
              "    </tr>\n",
              "    <tr>\n",
              "      <th>9845</th>\n",
              "      <td>23</td>\n",
              "      <td>0.216999</td>\n",
              "      <td>45317</td>\n",
              "      <td>0.188957</td>\n",
              "      <td>10</td>\n",
              "      <td>0.071166</td>\n",
              "      <td>0.269310</td>\n",
              "      <td>0.013000</td>\n",
              "      <td>0.254738</td>\n",
              "      <td>0.105960</td>\n",
              "      <td>0</td>\n",
              "      <td>0</td>\n",
              "      <td>40</td>\n",
              "      <td>0.24511</td>\n",
              "    </tr>\n",
              "    <tr>\n",
              "      <th>10799</th>\n",
              "      <td>45</td>\n",
              "      <td>0.305307</td>\n",
              "      <td>215862</td>\n",
              "      <td>0.748366</td>\n",
              "      <td>16</td>\n",
              "      <td>0.447245</td>\n",
              "      <td>0.484047</td>\n",
              "      <td>0.449796</td>\n",
              "      <td>0.254738</td>\n",
              "      <td>0.305831</td>\n",
              "      <td>7688</td>\n",
              "      <td>0</td>\n",
              "      <td>45</td>\n",
              "      <td>0.24511</td>\n",
              "    </tr>\n",
              "    <tr>\n",
              "      <th>2732</th>\n",
              "      <td>25</td>\n",
              "      <td>0.216999</td>\n",
              "      <td>186925</td>\n",
              "      <td>0.188957</td>\n",
              "      <td>10</td>\n",
              "      <td>0.044455</td>\n",
              "      <td>0.039119</td>\n",
              "      <td>0.100709</td>\n",
              "      <td>0.254738</td>\n",
              "      <td>0.305831</td>\n",
              "      <td>2597</td>\n",
              "      <td>0</td>\n",
              "      <td>48</td>\n",
              "      <td>0.24511</td>\n",
              "    </tr>\n",
              "  </tbody>\n",
              "</table>\n",
              "<p>26048 rows × 14 columns</p>\n",
              "</div>"
            ],
            "text/plain": [
              "       age  workclass  fnlwgt  ...  capital-loss  hours-per-week  native-country\n",
              "15282   36   0.216999  174308  ...             0              40         0.24511\n",
              "24870   35   0.216999  198202  ...             0              54         0.24511\n",
              "18822   38   0.216999   52963  ...             0              50         0.24511\n",
              "26404   50   0.216999  138270  ...             0              40         0.24511\n",
              "7842    68   0.286280  116903  ...          2149              40         0.24511\n",
              "...    ...        ...     ...  ...           ...             ...             ...\n",
              "13123   43   0.305307   33331  ...             0              40         0.24511\n",
              "19648   44   0.216999   98466  ...             0              35         0.24511\n",
              "9845    23   0.216999   45317  ...             0              40         0.24511\n",
              "10799   45   0.305307  215862  ...             0              45         0.24511\n",
              "2732    25   0.216999  186925  ...             0              48         0.24511\n",
              "\n",
              "[26048 rows x 14 columns]"
            ]
          },
          "metadata": {
            "tags": []
          }
        }
      ]
    },
    {
      "cell_type": "code",
      "metadata": {
        "colab": {
          "base_uri": "https://localhost:8080/"
        },
        "id": "gLDbw_GsiOHd",
        "outputId": "a74555e7-6617-4e8d-ba43-62b9cb3f6d13"
      },
      "source": [
        "classifier = TabNetClassifier(verbose=0,seed=42)\n",
        "classifier.fit(X_train=X_train, y_train=y_train,\n",
        "               patience=5,max_epochs=100,\n",
        "               eval_metric=['auc'])\n",
        "\n"
      ],
      "execution_count": 7,
      "outputs": [
        {
          "output_type": "stream",
          "text": [
            "No early stopping will be performed, last training weights will be used.\n"
          ],
          "name": "stdout"
        }
      ]
    },
    {
      "cell_type": "code",
      "metadata": {
        "colab": {
          "base_uri": "https://localhost:8080/"
        },
        "id": "fh0tZOmAiSPN",
        "outputId": "d3514162-7e92-4dce-fa33-751d22ca085f"
      },
      "source": [
        "predictions = classifier.predict_proba(X_val)[:,1]\n",
        "print(predictions, y_val)\n",
        "valid_auc = roc_auc_score(y_score=predictions, y_true=y_val)\n",
        "predictions[predictions > 0.5] = 1\n",
        "predictions[predictions <= 0.5] = 0\n",
        "#, y_valpredictions"
      ],
      "execution_count": 48,
      "outputs": [
        {
          "output_type": "stream",
          "text": [
            "[0.01063654 0.06961029 0.28196564 ... 0.8451264  0.23682082 0.40891224] [0 0 0 ... 1 0 1]\n"
          ],
          "name": "stdout"
        }
      ]
    },
    {
      "cell_type": "code",
      "metadata": {
        "colab": {
          "base_uri": "https://localhost:8080/"
        },
        "id": "JDb9s1R2jEdV",
        "outputId": "fb71b2c4-ba79-43a3-b41b-e12397ad7345"
      },
      "source": [
        "print('Accuracy', sum(predictions==y_val)/len(y_val))\n",
        "print('Validation AUC', valid_auc)"
      ],
      "execution_count": 43,
      "outputs": [
        {
          "output_type": "stream",
          "text": [
            "Accuracy 0.8492246276677414\n",
            "Validation AUC 0.9020082965652372\n"
          ],
          "name": "stdout"
        }
      ]
    },
    {
      "cell_type": "code",
      "metadata": {
        "id": "ODly_PSLlTQ4"
      },
      "source": [
        ""
      ],
      "execution_count": null,
      "outputs": []
    },
    {
      "cell_type": "code",
      "metadata": {
        "colab": {
          "base_uri": "https://localhost:8080/",
          "height": 282
        },
        "id": "vHIV6c9sjvRK",
        "outputId": "e4af146d-7d2e-495b-a24a-74dfc1db760b"
      },
      "source": [
        "from matplotlib import pyplot as plt\n",
        "plt.plot(classifier.history['loss'])"
      ],
      "execution_count": 24,
      "outputs": [
        {
          "output_type": "execute_result",
          "data": {
            "text/plain": [
              "[<matplotlib.lines.Line2D at 0x7ff237ff1510>]"
            ]
          },
          "metadata": {
            "tags": []
          },
          "execution_count": 24
        },
        {
          "output_type": "display_data",
          "data": {
            "image/png": "[encoded data removed]",
            "text/plain": [
              "<Figure size 432x288 with 1 Axes>"
            ]
          },
          "metadata": {
            "tags": [],
            "needs_background": "light"
          }
        }
      ]
    },
    {
      "cell_type": "code",
      "metadata": {
        "colab": {
          "base_uri": "https://localhost:8080/",
          "height": 353
        },
        "id": "-T4fYEXkj6cl",
        "outputId": "32020b01-ad8d-4ea4-f895-bcf50873d670"
      },
      "source": [
        "plt.hist(classifier.feature_importances_)"
      ],
      "execution_count": 30,
      "outputs": [
        {
          "output_type": "execute_result",
          "data": {
            "text/plain": [
              "(array([6., 3., 1., 0., 1., 1., 1., 0., 0., 1.]),\n",
              " array([0.00094747, 0.02892751, 0.05690755, 0.08488759, 0.11286763,\n",
              "        0.14084767, 0.16882772, 0.19680776, 0.2247878 , 0.25276784,\n",
              "        0.28074788]),\n",
              " <a list of 10 Patch objects>)"
            ]
          },
          "metadata": {
            "tags": []
          },
          "execution_count": 30
        },
        {
          "output_type": "display_data",
          "data": {
            "image/png": "[encoded data removed]",
            "text/plain": [
              "<Figure size 432x288 with 1 Axes>"
            ]
          },
          "metadata": {
            "tags": [],
            "needs_background": "light"
          }
        }
      ]
    },
    {
      "cell_type": "code",
      "metadata": {
        "colab": {
          "base_uri": "https://localhost:8080/",
          "height": 1000
        },
        "id": "WCL29FT6kAPG",
        "outputId": "df92fb18-e9b7-4212-df92-1fcc1a279521"
      },
      "source": [
        "explain_matrix, masks = classifier.explain(X_val)\n",
        "fig, axs = plt.subplots(1, 3, figsize=(20,20))\n",
        "\n",
        "for i in range(3):\n",
        "    axs[i].imshow(masks[i][:50])\n",
        "    axs[i].set_title(f\"mask {i}\")"
      ],
      "execution_count": 32,
      "outputs": [
        {
          "output_type": "display_data",
          "data": {
            "image/png": "[encoded data removed]",
            "text/plain": [
              "<Figure size 1440x1440 with 3 Axes>"
            ]
          },
          "metadata": {
            "tags": [],
            "needs_background": "light"
          }
        }
      ]
    },
    {
      "cell_type": "code",
      "metadata": {
        "id": "5h-TXGdPkfEl"
      },
      "source": [
        ""
      ],
      "execution_count": null,
      "outputs": []
    },
    {
      "cell_type": "code",
      "metadata": {
        "id": "8jV0o8HQkrrJ"
      },
      "source": [
        ""
      ],
      "execution_count": null,
      "outputs": []
    },
    {
      "cell_type": "markdown",
      "metadata": {
        "id": "BcUlsaiXkt-T"
      },
      "source": [
        "# XGB"
      ]
    },
    {
      "cell_type": "code",
      "metadata": {
        "colab": {
          "base_uri": "https://localhost:8080/"
        },
        "id": "AGVaRq92kw4_",
        "outputId": "913ad9f4-c661-4eab-80c6-5ce1c200b39f"
      },
      "source": [
        "from xgboost import XGBClassifier\n",
        "\n",
        "clf_xgb = XGBClassifier(max_depth=8,\n",
        "    learning_rate=0.1,\n",
        "    n_estimators=1000,\n",
        "    verbosity=0,\n",
        "    silent=None,\n",
        "    objective='binary:logistic',\n",
        "    booster='gbtree',\n",
        "    n_jobs=-1,\n",
        "    nthread=None,\n",
        "    gamma=0,\n",
        "    min_child_weight=1,\n",
        "    max_delta_step=0,\n",
        "    subsample=0.7,\n",
        "    colsample_bytree=1,\n",
        "    colsample_bylevel=1,\n",
        "    colsample_bynode=1,\n",
        "    reg_alpha=0,\n",
        "    reg_lambda=1,\n",
        "    scale_pos_weight=1,\n",
        "    base_score=0.5,\n",
        "    random_state=0,\n",
        "    seed=None,)\n",
        "\n",
        "\n",
        "#For next time if we want val losses for every epoch use the eval_set flag\n",
        "\n",
        "clf_xgb.fit(X_train, y_train,\n",
        "        eval_set=[(X_val, y_val)],\n",
        "        early_stopping_rounds=40,\n",
        "        verbose=10)"
      ],
      "execution_count": 34,
      "outputs": [
        {
          "output_type": "stream",
          "text": [
            "[0]\tvalidation_0-error:0.148319\n",
            "Will train until validation_0-error hasn't improved in 40 rounds.\n",
            "[10]\tvalidation_0-error:0.137264\n",
            "[20]\tvalidation_0-error:0.138799\n",
            "[30]\tvalidation_0-error:0.135882\n",
            "[40]\tvalidation_0-error:0.133886\n",
            "[50]\tvalidation_0-error:0.132197\n",
            "[60]\tvalidation_0-error:0.133272\n",
            "[70]\tvalidation_0-error:0.13404\n",
            "[80]\tvalidation_0-error:0.132658\n",
            "[90]\tvalidation_0-error:0.132044\n",
            "[100]\tvalidation_0-error:0.131737\n",
            "[110]\tvalidation_0-error:0.131276\n",
            "[120]\tvalidation_0-error:0.132811\n",
            "[130]\tvalidation_0-error:0.133272\n",
            "[140]\tvalidation_0-error:0.133733\n",
            "Stopping. Best iteration:\n",
            "[102]\tvalidation_0-error:0.131122\n",
            "\n"
          ],
          "name": "stdout"
        },
        {
          "output_type": "execute_result",
          "data": {
            "text/plain": [
              "XGBClassifier(base_score=0.5, booster='gbtree', colsample_bylevel=1,\n",
              "              colsample_bynode=1, colsample_bytree=1, gamma=0,\n",
              "              learning_rate=0.1, max_delta_step=0, max_depth=8,\n",
              "              min_child_weight=1, missing=None, n_estimators=1000, n_jobs=-1,\n",
              "              nthread=None, objective='binary:logistic', random_state=0,\n",
              "              reg_alpha=0, reg_lambda=1, scale_pos_weight=1, seed=None,\n",
              "              silent=None, subsample=0.7, verbosity=0)"
            ]
          },
          "metadata": {
            "tags": []
          },
          "execution_count": 34
        }
      ]
    },
    {
      "cell_type": "code",
      "metadata": {
        "colab": {
          "base_uri": "https://localhost:8080/"
        },
        "id": "8OLcO2t5kzxQ",
        "outputId": "f27d033e-3a99-4d86-c986-07b7e4c24d10"
      },
      "source": [
        "preds = np.array(clf_xgb.predict_proba(X_val))\n",
        "valid_auc = roc_auc_score(y_score=preds[:,1], y_true=y_val)\n",
        "print('Validation AUC', valid_auc)\n",
        "\n",
        "preds = preds[:, 1]\n",
        "preds[preds > 0.5] = 1\n",
        "preds[preds <= 0.5] = 0\n",
        "print('Accuracy', sum(preds==y_val)/len(y_val))"
      ],
      "execution_count": 53,
      "outputs": [
        {
          "output_type": "stream",
          "text": [
            "Validation AUC 0.925226887092518\n",
            "Accuracy 0.8688776293566712\n"
          ],
          "name": "stdout"
        }
      ]
    },
    {
      "cell_type": "code",
      "metadata": {
        "colab": {
          "base_uri": "https://localhost:8080/",
          "height": 265
        },
        "id": "gJ888QE7lKHU",
        "outputId": "be23077b-906e-4f0e-db62-8198aa208635"
      },
      "source": [
        "plt.plot(clf_xgb.evals_result()['validation_0']['error'])\n",
        "plt.show()"
      ],
      "execution_count": 60,
      "outputs": [
        {
          "output_type": "display_data",
          "data": {
            "image/png": "[encoded data removed]",
            "text/plain": [
              "<Figure size 432x288 with 1 Axes>"
            ]
          },
          "metadata": {
            "tags": [],
            "needs_background": "light"
          }
        }
      ]
    },
    {
      "cell_type": "code",
      "metadata": {
        "id": "h3G-KLOul4c9"
      },
      "source": [
        ""
      ],
      "execution_count": 61,
      "outputs": []
    },
    {
      "cell_type": "code",
      "metadata": {
        "id": "AsiuQN6ooFNj"
      },
      "source": [
        ""
      ],
      "execution_count": null,
      "outputs": []
    }
  ]
}